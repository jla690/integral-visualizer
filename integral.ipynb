{
 "cells": [
  {
   "cell_type": "code",
   "execution_count": null,
   "id": "f0293d53",
   "metadata": {},
   "outputs": [
    {
     "data": {
      "application/vnd.jupyter.widget-view+json": {
       "model_id": "12a42a37a37a43609ffbda8870e93ff3",
       "version_major": 2,
       "version_minor": 0
      },
      "text/plain": [
       "interactive(children=(IntSlider(value=5, description='n', max=500, min=2), Output()), _dom_classes=('widget-in…"
      ]
     },
     "metadata": {},
     "output_type": "display_data"
    }
   ],
   "source": [
    "import numpy as np\n",
    "import matplotlib.pyplot as plt\n",
    "from ipywidgets import interact, IntSlider\n",
    "\n",
    "class Shape:\n",
    "    def __init__(self, x1, y1, x2, y2):\n",
    "        self.x1 = x1\n",
    "        self.y1 = y1\n",
    "        self.x2 = x2\n",
    "        self.y2 = y2\n",
    "\n",
    "def f(x):\n",
    "    return np.sin(x)\n",
    "\n",
    "@interact(n=IntSlider(min=2, max=500, step=1, value=5))\n",
    "def plot_function(n):\n",
    "    x = np.linspace(0, np.pi, 200)\n",
    "    y = f(x)\n",
    "    shapes = []\n",
    "\n",
    "    def approx_trapezoid(f, a, b, n):\n",
    "        delta_x = (b-a)/n\n",
    "        total_area = 0\n",
    "        for i in range(n):\n",
    "            x1 = a + (i*delta_x)\n",
    "            x2 = a + ((i+1)*delta_x)\n",
    "            y1 = f(x1)\n",
    "            y2 = f(x2)\n",
    "            shape = Shape(x1,y1,x2,y2)\n",
    "            shapes.append(shape)\n",
    "\n",
    "            area = (y1 + y2) * delta_x / 2\n",
    "            total_area += area\n",
    "        print(\"Total Area: \" + str(total_area))\n",
    "\n",
    "    approx_trapezoid(f, 0, np.pi, n)\n",
    "\n",
    "    plt.plot(x, y, label=\"f(x)=sin(x)\")\n",
    "    for shape in shapes:\n",
    "        plt.fill_between([shape.x1, shape.x2], [shape.y1, shape.y2], 0, alpha=0.3)\n",
    "    plt.title(f\"Approximation with n={n}\")\n",
    "    plt.show()\n"
   ]
  }
 ],
 "metadata": {
  "kernelspec": {
   "display_name": ".venv",
   "language": "python",
   "name": "python3"
  },
  "language_info": {
   "codemirror_mode": {
    "name": "ipython",
    "version": 3
   },
   "file_extension": ".py",
   "mimetype": "text/x-python",
   "name": "python",
   "nbconvert_exporter": "python",
   "pygments_lexer": "ipython3",
   "version": "3.13.6"
  }
 },
 "nbformat": 4,
 "nbformat_minor": 5
}
