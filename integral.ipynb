{
 "cells": [
  {
   "cell_type": "code",
   "execution_count": null,
   "id": "f0293d53",
   "metadata": {},
   "outputs": [
    {
     "data": {
      "application/vnd.jupyter.widget-view+json": {
       "model_id": "9e4e28705f0f454f9cb59caad04f0bc6",
       "version_major": 2,
       "version_minor": 0
      },
      "text/plain": [
       "interactive(children=(IntSlider(value=5, description='n', layout=Layout(width='500px'), max=500, min=2), Dropd…"
      ]
     },
     "metadata": {},
     "output_type": "display_data"
    }
   ],
   "source": [
    "import numpy as np\n",
    "import matplotlib.pyplot as plt\n",
    "from ipywidgets import interact, IntSlider, Layout, Dropdown, FloatText\n",
    "\n",
    "functions = [(\"sin(x)\", np.sin), \n",
    "             (\"cos(x)\", np.cos), \n",
    "             (\"x^2\", lambda x: x**2), \n",
    "             (\"e^x\", lambda x: np.e**x),\n",
    "             (\"ln(x)\", lambda x: np.log(x)),\n",
    "             (\"1/x\", lambda x: 1/x),\n",
    "             (\"sqrt(x)\", lambda x: np.sqrt(x)),\n",
    "             (\"4/1+x^2\", lambda x: 4/(1+x**2))]\n",
    "\n",
    "methods = [(\"Trapezoid\", \"Trapezoid\"),\n",
    "           (\"Left Side\", \"Left Side\"),\n",
    "           (\"Right Side\", \"Right Side\"),\n",
    "           (\"Mid\", \"Mid\")]\n",
    "\n",
    "@interact(n=IntSlider(min=2, max=500, step=1, value=5, layout=Layout(width='500px')),\n",
    "          func_choice=Dropdown(options=functions, value=np.sin, description=\"Function:\", disabled=False),\n",
    "          approx_choice=Dropdown(options=methods, value=\"Trapezoid\", description=\"Method\", disabled=False),\n",
    "          a=FloatText(value=0, description=\"Start:\", disabled=False),\n",
    "          b=FloatText(value=1, description=\"End:\", disabled=False))\n",
    "def plot_function(n, func_choice, approx_choice, a, b):\n",
    "    x = np.linspace(a, b, 200)\n",
    "    y = func_choice(x)\n",
    "    delta_x = (b-a)/n\n",
    "\n",
    "    def approx_left():\n",
    "        total_area = 0\n",
    "        x_points = np.linspace(a, b, n+1)\n",
    "        y_points = func_choice(x_points)\n",
    "\n",
    "        total_area = np.sum((y_points[:-1]) * delta_x)\n",
    "        print(\"Approximate Left Area: \" + str(total_area))\n",
    "        return x_points[:-1], x_points[1:], y_points[:-1], y_points[:-1]\n",
    "    \n",
    "    def approx_right():\n",
    "        total_area = 0\n",
    "        x_points = np.linspace(a, b, n+1)\n",
    "        y_points = func_choice(x_points)\n",
    "\n",
    "        total_area = np.sum((y_points[1:]) * delta_x)\n",
    "        print(\"Approximate Right Area: \" + str(total_area))\n",
    "        return x_points[:-1], x_points[1:], y_points[1:], y_points[1:]\n",
    "    \n",
    "    def approx_mid():\n",
    "        total_area = 0\n",
    "        x_points = np.linspace(a, b, n+1)\n",
    "        y_points = func_choice(x_points)\n",
    "\n",
    "        total_area = np.sum(((y_points[1:] + y_points[:-1])/2) * delta_x)\n",
    "        midpoints = (y_points[1:] + y_points[:-1]) / 2\n",
    "        print(\"Approximate Mid Area: \" + str(total_area))\n",
    "        return x_points[:-1], x_points[1:], midpoints, midpoints\n",
    "\n",
    "    def approx_trapezoid():\n",
    "        total_area = 0\n",
    "\n",
    "        x_points = np.linspace(a, b, n+1)\n",
    "        y_points = func_choice(x_points)\n",
    "        total_area = np.sum((y_points[:-1] + y_points[1:]) * (delta_x/2))\n",
    "        print(\"Approximate Trapezoid Area: \" + str(total_area))\n",
    "        return x_points[:-1], x_points[1:], y_points[:-1], y_points[1:]\n",
    "\n",
    "    if approx_choice == \"Trapezoid\":\n",
    "        x1, x2, y1, y2 = approx_trapezoid()\n",
    "    elif approx_choice == \"Left Side\":\n",
    "        x1, x2, y1, y2 = approx_left()\n",
    "    elif approx_choice == \"Right Side\":\n",
    "        x1, x2, y1, y2 = approx_right()\n",
    "    elif approx_choice == \"Mid\":\n",
    "        x1, x2, y1, y2 = approx_mid()\n",
    "\n",
    "    plt.plot(x, y, label=\"f(x)\")\n",
    "    for i in range(n):\n",
    "        plt.fill_between([x1[i], x2[i]], [y1[i], y2[i]], 0, alpha=0.4, color='g')\n",
    "    plt.title(f\"Approximation with n={n}\")\n",
    "    plt.grid(True)\n",
    "    plt.show()\n"
   ]
  }
 ],
 "metadata": {
  "kernelspec": {
   "display_name": ".venv",
   "language": "python",
   "name": "python3"
  },
  "language_info": {
   "codemirror_mode": {
    "name": "ipython",
    "version": 3
   },
   "file_extension": ".py",
   "mimetype": "text/x-python",
   "name": "python",
   "nbconvert_exporter": "python",
   "pygments_lexer": "ipython3",
   "version": "3.13.6"
  }
 },
 "nbformat": 4,
 "nbformat_minor": 5
}
