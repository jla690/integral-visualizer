{
 "cells": [
  {
   "cell_type": "code",
   "execution_count": null,
   "id": "f0293d53",
   "metadata": {},
   "outputs": [
    {
     "data": {
      "application/vnd.jupyter.widget-view+json": {
       "model_id": "09cd2e7f30704c2cbe0f516c436e3839",
       "version_major": 2,
       "version_minor": 0
      },
      "text/plain": [
       "interactive(children=(IntSlider(value=5, description='n', layout=Layout(width='500px'), max=500, min=2), Dropd…"
      ]
     },
     "metadata": {},
     "output_type": "display_data"
    }
   ],
   "source": [
    "import numpy as np\n",
    "import matplotlib.pyplot as plt\n",
    "from ipywidgets import interact, IntSlider, Layout, Dropdown\n",
    "\n",
    "class Shape:\n",
    "    def __init__(self, x1, y1, x2, y2):\n",
    "        self.x1 = x1\n",
    "        self.y1 = y1\n",
    "        self.x2 = x2\n",
    "        self.y2 = y2\n",
    "\n",
    "def f(x):\n",
    "    return np.sin(x)\n",
    "\n",
    "@interact(n=IntSlider(min=2, max=500, step=1, value=5, layout=Layout(width='500px')),\n",
    "          func_choice=Dropdown(options=[(\"sinx\", np.sin), (\"cosx\", np.cos), (\"x^2\", lambda x: x**2)], value=np.sin, description=\"Function:\", disabled=False))\n",
    "def plot_function(n, func_choice):\n",
    "    x = np.linspace(0, np.pi, 200)\n",
    "    y = func_choice(x)\n",
    "\n",
    "    def approx_trapezoid(f, a, b, n):\n",
    "        delta_x = (b-a)/n\n",
    "        total_area = 0\n",
    "\n",
    "        x_points = np.linspace(0, np.pi, n+1)\n",
    "        y_points = func_choice(x_points)\n",
    "        total_area = np.sum((y_points[:-1] + y_points[1:]) * (delta_x/2))\n",
    "        print(\"Approximate Area: \" + str(total_area))\n",
    "        return x_points[:-1], x_points[1:], y_points[:-1], y_points[1:]\n",
    "\n",
    "    x1, x2, y1, y2 = approx_trapezoid(func_choice, 0, np.pi, n)\n",
    "\n",
    "    plt.plot(x, y, label=\"f(x)=sin(x)\")\n",
    "    for i in range(n):\n",
    "        plt.fill_between([x1[i], x2[i]], [y1[i], y2[i]], 0, alpha=0.3)\n",
    "    plt.title(f\"Approximation with n={n}\")\n",
    "    plt.show()\n"
   ]
  }
 ],
 "metadata": {
  "kernelspec": {
   "display_name": ".venv",
   "language": "python",
   "name": "python3"
  },
  "language_info": {
   "codemirror_mode": {
    "name": "ipython",
    "version": 3
   },
   "file_extension": ".py",
   "mimetype": "text/x-python",
   "name": "python",
   "nbconvert_exporter": "python",
   "pygments_lexer": "ipython3",
   "version": "3.13.6"
  }
 },
 "nbformat": 4,
 "nbformat_minor": 5
}
